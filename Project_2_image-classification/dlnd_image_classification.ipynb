{
 "cells": [
  {
   "cell_type": "markdown",
   "metadata": {
    "collapsed": true
   },
   "source": [
    "# Image Classification\n",
    "In this project, you'll classify images from the [CIFAR-10 dataset](https://www.cs.toronto.edu/~kriz/cifar.html).  The dataset consists of airplanes, dogs, cats, and other objects. You'll preprocess the images, then train a convolutional neural network on all the samples. The images need to be normalized and the labels need to be one-hot encoded.  You'll get to apply what you learned and build a convolutional, max pooling, dropout, and fully connected layers.  At the end, you'll get to see your neural network's predictions on the sample images.\n",
    "## Get the Data\n",
    "Run the following cell to download the [CIFAR-10 dataset for python](https://www.cs.toronto.edu/~kriz/cifar-10-python.tar.gz)."
   ]
  },
  {
   "cell_type": "code",
   "execution_count": 1,
   "metadata": {
    "collapsed": false
   },
   "outputs": [
    {
     "name": "stdout",
     "output_type": "stream",
     "text": [
      "All files found!\n"
     ]
    }
   ],
   "source": [
    "\"\"\"\n",
    "DON'T MODIFY ANYTHING IN THIS CELL THAT IS BELOW THIS LINE\n",
    "\"\"\"\n",
    "from urllib.request import urlretrieve\n",
    "from os.path import isfile, isdir\n",
    "from tqdm import tqdm\n",
    "import problem_unittests as tests\n",
    "import tarfile\n",
    "\n",
    "cifar10_dataset_folder_path = 'cifar-10-batches-py'\n",
    "\n",
    "# Use Floyd's cifar-10 dataset if present\n",
    "floyd_cifar10_location = '/input/cifar-10/python.tar.gz'\n",
    "if isfile(floyd_cifar10_location):\n",
    "    tar_gz_path = floyd_cifar10_location\n",
    "else:\n",
    "    tar_gz_path = 'cifar-10-python.tar.gz'\n",
    "\n",
    "class DLProgress(tqdm):\n",
    "    last_block = 0\n",
    "\n",
    "    def hook(self, block_num=1, block_size=1, total_size=None):\n",
    "        self.total = total_size\n",
    "        self.update((block_num - self.last_block) * block_size)\n",
    "        self.last_block = block_num\n",
    "\n",
    "if not isfile(tar_gz_path):\n",
    "    with DLProgress(unit='B', unit_scale=True, miniters=1, desc='CIFAR-10 Dataset') as pbar:\n",
    "        urlretrieve(\n",
    "            'https://www.cs.toronto.edu/~kriz/cifar-10-python.tar.gz',\n",
    "            tar_gz_path,\n",
    "            pbar.hook)\n",
    "\n",
    "if not isdir(cifar10_dataset_folder_path):\n",
    "    with tarfile.open(tar_gz_path) as tar:\n",
    "        tar.extractall()\n",
    "        tar.close()\n",
    "\n",
    "\n",
    "tests.test_folder_path(cifar10_dataset_folder_path)"
   ]
  },
  {
   "cell_type": "markdown",
   "metadata": {},
   "source": [
    "## Explore the Data\n",
    "The dataset is broken into batches to prevent your machine from running out of memory.  The CIFAR-10 dataset consists of 5 batches, named `data_batch_1`, `data_batch_2`, etc.. Each batch contains the labels and images that are one of the following:\n",
    "* airplane\n",
    "* automobile\n",
    "* bird\n",
    "* cat\n",
    "* deer\n",
    "* dog\n",
    "* frog\n",
    "* horse\n",
    "* ship\n",
    "* truck\n",
    "\n",
    "Understanding a dataset is part of making predictions on the data.  Play around with the code cell below by changing the `batch_id` and `sample_id`. The `batch_id` is the id for a batch (1-5). The `sample_id` is the id for a image and label pair in the batch.\n",
    "\n",
    "Ask yourself \"What are all possible labels?\", \"What is the range of values for the image data?\", \"Are the labels in order or random?\".  Answers to questions like these will help you preprocess the data and end up with better predictions."
   ]
  },
  {
   "cell_type": "code",
   "execution_count": 2,
   "metadata": {
    "collapsed": false
   },
   "outputs": [
    {
     "name": "stdout",
     "output_type": "stream",
     "text": [
      "\n",
      "Stats of batch 1:\n",
      "Samples: 10000\n",
      "Label Counts: {0: 1005, 1: 974, 2: 1032, 3: 1016, 4: 999, 5: 937, 6: 1030, 7: 1001, 8: 1025, 9: 981}\n",
      "First 20 Labels: [6, 9, 9, 4, 1, 1, 2, 7, 8, 3, 4, 7, 7, 2, 9, 9, 9, 3, 2, 6]\n",
      "\n",
      "Example of Image 5:\n",
      "Image - Min Value: 0 Max Value: 252\n",
      "Image - Shape: (32, 32, 3)\n",
      "Label - Label Id: 1 Name: automobile\n"
     ]
    },
    {
     "data": {
      "image/png": "[encoded data removed]",
      "text/plain": [
       "<matplotlib.figure.Figure at 0x2a3b91269e8>"
      ]
     },
     "metadata": {
      "image/png": {
       "height": 250,
       "width": 253
      }
     },
     "output_type": "display_data"
    }
   ],
   "source": [
    "%matplotlib inline\n",
    "%config InlineBackend.figure_format = 'retina'\n",
    "\n",
    "import helper\n",
    "import numpy as np\n",
    "\n",
    "# Explore the dataset\n",
    "batch_id = 1\n",
    "sample_id = 5\n",
    "helper.display_stats(cifar10_dataset_folder_path, batch_id, sample_id)"
   ]
  },
  {
   "cell_type": "markdown",
   "metadata": {},
   "source": [
    "## Implement Preprocess Functions\n",
    "### Normalize\n",
    "In the cell below, implement the `normalize` function to take in image data, `x`, and return it as a normalized Numpy array. The values should be in the range of 0 to 1, inclusive.  The return object should be the same shape as `x`."
   ]
  },
  {
   "cell_type": "code",
   "execution_count": 3,
   "metadata": {
    "collapsed": false
   },
   "outputs": [
    {
     "name": "stdout",
     "output_type": "stream",
     "text": [
      "Tests Passed\n"
     ]
    }
   ],
   "source": [
    "def normalize(x):\n",
    "    \"\"\"\n",
    "    Normalize a list of sample image data in the range of 0 to 1\n",
    "    : x: List of image data.  The image shape is (32, 32, 3)\n",
    "    : return: Numpy array of normalize data\n",
    "    \"\"\"\n",
    "    # TODO: Implement Function\n",
    "    return (x-np.min(x))/(np.max(x)-np.min(x))\n",
    "\n",
    "\n",
    "\"\"\"\n",
    "DON'T MODIFY ANYTHING IN THIS CELL THAT IS BELOW THIS LINE\n",
    "\"\"\"\n",
    "tests.test_normalize(normalize)"
   ]
  },
  {
   "cell_type": "markdown",
   "metadata": {},
   "source": [
    "### One-hot encode\n",
    "Just like the previous code cell, you'll be implementing a function for preprocessing.  This time, you'll implement the `one_hot_encode` function. The input, `x`, are a list of labels.  Implement the function to return the list of labels as One-Hot encoded Numpy array.  The possible values for labels are 0 to 9. The one-hot encoding function should return the same encoding for each value between each call to `one_hot_encode`.  Make sure to save the map of encodings outside the function.\n",
    "\n",
    "Hint: Don't reinvent the wheel."
   ]
  },
  {
   "cell_type": "code",
   "execution_count": 4,
   "metadata": {
    "collapsed": false
   },
   "outputs": [
    {
     "name": "stdout",
     "output_type": "stream",
     "text": [
      "Tests Passed\n"
     ]
    }
   ],
   "source": [
    "\n",
    "from sklearn import preprocessing\n",
    "def one_hot_encode(x):\n",
    "    \"\"\"\n",
    "    One hot encode a list of sample labels. Return a one-hot encoded vector for each label.\n",
    "    : x: List of sample Labels\n",
    "    : return: Numpy array of one-hot encoded labels\n",
    "    \"\"\"\n",
    "    \n",
    "    # TODO: Implement Function\n",
    "    return np.eye(10)[x]\n",
    "\n",
    "\n",
    "\"\"\"\n",
    "DON'T MODIFY ANYTHING IN THIS CELL THAT IS BELOW THIS LINE\n",
    "\"\"\"\n",
    "tests.test_one_hot_encode(one_hot_encode)"
   ]
  },
  {
   "cell_type": "markdown",
   "metadata": {},
   "source": [
    "### Randomize Data\n",
    "As you saw from exploring the data above, the order of the samples are randomized.  It doesn't hurt to randomize it again, but you don't need to for this dataset."
   ]
  },
  {
   "cell_type": "markdown",
   "metadata": {},
   "source": [
    "## Preprocess all the data and save it\n",
    "Running the code cell below will preprocess all the CIFAR-10 data and save it to file. The code below also uses 10% of the training data for validation."
   ]
  },
  {
   "cell_type": "code",
   "execution_count": 5,
   "metadata": {
    "collapsed": false
   },
   "outputs": [],
   "source": [
    "\"\"\"\n",
    "DON'T MODIFY ANYTHING IN THIS CELL\n",
    "\"\"\"\n",
    "# Preprocess Training, Validation, and Testing Data\n",
    "helper.preprocess_and_save_data(cifar10_dataset_folder_path, normalize, one_hot_encode)"
   ]
  },
  {
   "cell_type": "markdown",
   "metadata": {},
   "source": [
    "# Check Point\n",
    "This is your first checkpoint.  If you ever decide to come back to this notebook or have to restart the notebook, you can start from here.  The preprocessed data has been saved to disk."
   ]
  },
  {
   "cell_type": "code",
   "execution_count": 1,
   "metadata": {
    "collapsed": true
   },
   "outputs": [],
   "source": [
    "\"\"\"\n",
    "DON'T MODIFY ANYTHING IN THIS CELL\n",
    "\"\"\"\n",
    "import pickle\n",
    "import problem_unittests as tests\n",
    "import helper\n",
    "\n",
    "# Load the Preprocessed Validation data\n",
    "valid_features, valid_labels = pickle.load(open('preprocess_validation.p', mode='rb'))"
   ]
  },
  {
   "cell_type": "markdown",
   "metadata": {},
   "source": [
    "## Build the network\n",
    "For the neural network, you'll build each layer into a function.  Most of the code you've seen has been outside of functions. To test your code more thoroughly, we require that you put each layer in a function.  This allows us to give you better feedback and test for simple mistakes using our unittests before you submit your project.\n",
    "\n",
    ">**Note:** If you're finding it hard to dedicate enough time for this course each week, we've provided a small shortcut to this part of the project. In the next couple of problems, you'll have the option to use classes from the [TensorFlow Layers](https://www.tensorflow.org/api_docs/python/tf/layers) or [TensorFlow Layers (contrib)](https://www.tensorflow.org/api_guides/python/contrib.layers) packages to build each layer, except the layers you build in the \"Convolutional and Max Pooling Layer\" section.  TF Layers is similar to Keras's and TFLearn's abstraction to layers, so it's easy to pickup.\n",
    "\n",
    ">However, if you would like to get the most out of this course, try to solve all the problems _without_ using anything from the TF Layers packages. You **can** still use classes from other packages that happen to have the same name as ones you find in TF Layers! For example, instead of using the TF Layers version of the `conv2d` class, [tf.layers.conv2d](https://www.tensorflow.org/api_docs/python/tf/layers/conv2d), you would want to use the TF Neural Network version of `conv2d`, [tf.nn.conv2d](https://www.tensorflow.org/api_docs/python/tf/nn/conv2d). \n",
    "\n",
    "Let's begin!\n",
    "\n",
    "### Input\n",
    "The neural network needs to read the image data, one-hot encoded labels, and dropout keep probability. Implement the following functions\n",
    "* Implement `neural_net_image_input`\n",
    " * Return a [TF Placeholder](https://www.tensorflow.org/api_docs/python/tf/placeholder)\n",
    " * Set the shape using `image_shape` with batch size set to `None`.\n",
    " * Name the TensorFlow placeholder \"x\" using the TensorFlow `name` parameter in the [TF Placeholder](https://www.tensorflow.org/api_docs/python/tf/placeholder).\n",
    "* Implement `neural_net_label_input`\n",
    " * Return a [TF Placeholder](https://www.tensorflow.org/api_docs/python/tf/placeholder)\n",
    " * Set the shape using `n_classes` with batch size set to `None`.\n",
    " * Name the TensorFlow placeholder \"y\" using the TensorFlow `name` parameter in the [TF Placeholder](https://www.tensorflow.org/api_docs/python/tf/placeholder).\n",
    "* Implement `neural_net_keep_prob_input`\n",
    " * Return a [TF Placeholder](https://www.tensorflow.org/api_docs/python/tf/placeholder) for dropout keep probability.\n",
    " * Name the TensorFlow placeholder \"keep_prob\" using the TensorFlow `name` parameter in the [TF Placeholder](https://www.tensorflow.org/api_docs/python/tf/placeholder).\n",
    "\n",
    "These names will be used at the end of the project to load your saved model.\n",
    "\n",
    "Note: `None` for shapes in TensorFlow allow for a dynamic size."
   ]
  },
  {
   "cell_type": "code",
   "execution_count": 2,
   "metadata": {
    "collapsed": false
   },
   "outputs": [
    {
     "name": "stdout",
     "output_type": "stream",
     "text": [
      "Image Input Tests Passed.\n",
      "Label Input Tests Passed.\n",
      "Keep Prob Tests Passed.\n"
     ]
    }
   ],
   "source": [
    "import tensorflow as tf\n",
    "\n",
    "def neural_net_image_input(image_shape):\n",
    "    \"\"\"\n",
    "    Return a Tensor for a batch of image input\n",
    "    : image_shape: Shape of the images\n",
    "    : return: Tensor for image input.\n",
    "    \"\"\"\n",
    "    # TODO: Implement Function\n",
    "    return tf.placeholder(tf.float32,shape=(None, image_shape[0], image_shape[1], image_shape[2]),name='x')\n",
    "\n",
    "\n",
    "def neural_net_label_input(n_classes):\n",
    "    \"\"\"\n",
    "    Return a Tensor for a batch of label input\n",
    "    : n_classes: Number of classes\n",
    "    : return: Tensor for label input.\n",
    "    \"\"\"\n",
    "    # TODO: Implement Function\n",
    "    return tf.placeholder(tf.float32,[None, n_classes],name='y')\n",
    "\n",
    "\n",
    "def neural_net_keep_prob_input():\n",
    "    \"\"\"\n",
    "    Return a Tensor for keep probability\n",
    "    : return: Tensor for keep probability.\n",
    "    \"\"\"\n",
    "    # TODO: Implement Function\n",
    "    return tf.placeholder(tf.float32,name='keep_prob')\n",
    "\n",
    "\n",
    "\"\"\"\n",
    "DON'T MODIFY ANYTHING IN THIS CELL THAT IS BELOW THIS LINE\n",
    "\"\"\"\n",
    "tf.reset_default_graph()\n",
    "tests.test_nn_image_inputs(neural_net_image_input)\n",
    "tests.test_nn_label_inputs(neural_net_label_input)\n",
    "tests.test_nn_keep_prob_inputs(neural_net_keep_prob_input)"
   ]
  },
  {
   "cell_type": "markdown",
   "metadata": {},
   "source": [
    "### Convolution and Max Pooling Layer\n",
    "Convolution layers have a lot of success with images. For this code cell, you should implement the function `conv2d_maxpool` to apply convolution then max pooling:\n",
    "* Create the weight and bias using `conv_ksize`, `conv_num_outputs` and the shape of `x_tensor`.\n",
    "* Apply a convolution to `x_tensor` using weight and `conv_strides`.\n",
    " * We recommend you use same padding, but you're welcome to use any padding.\n",
    "* Add bias\n",
    "* Add a nonlinear activation to the convolution.\n",
    "* Apply Max Pooling using `pool_ksize` and `pool_strides`.\n",
    " * We recommend you use same padding, but you're welcome to use any padding.\n",
    "\n",
    "**Note:** You **can't** use [TensorFlow Layers](https://www.tensorflow.org/api_docs/python/tf/layers) or [TensorFlow Layers (contrib)](https://www.tensorflow.org/api_guides/python/contrib.layers) for **this** layer, but you can still use TensorFlow's [Neural Network](https://www.tensorflow.org/api_docs/python/tf/nn) package. You may still use the shortcut option for all the **other** layers."
   ]
  },
  {
   "cell_type": "code",
   "execution_count": 3,
   "metadata": {
    "collapsed": false
   },
   "outputs": [
    {
     "name": "stdout",
     "output_type": "stream",
     "text": [
      "Tests Passed\n"
     ]
    }
   ],
   "source": [
    "def conv2d_maxpool(x_tensor, conv_num_outputs, conv_ksize, conv_strides, pool_ksize, pool_strides):\n",
    "    \"\"\"\n",
    "    Apply convolution then max pooling to x_tensor\n",
    "    :param x_tensor: TensorFlow Tensor\n",
    "    :param conv_num_outputs: Number of outputs for the convolutional layer\n",
    "    :param conv_ksize: kernal size 2-D Tuple for the convolutional layer\n",
    "    :param conv_strides: Stride 2-D Tuple for convolution\n",
    "    :param pool_ksize: kernal size 2-D Tuple for pool\n",
    "    :param pool_strides: Stride 2-D Tuple for pool\n",
    "    : return: A tensor that represents convolution and max pooling of x_tensor\n",
    "    \"\"\"\n",
    "    # TODO: Implement Function\n",
    "    conv_ksize = [1, conv_ksize[0], conv_ksize[1], 1]\n",
    "    num_inputs = x_tensor.get_shape().as_list()[3]\n",
    "    bias=tf.Variable(tf.zeros(conv_num_outputs))\n",
    "    weight=tf.Variable(tf.truncated_normal([conv_ksize[0],conv_ksize[1],num_inputs,conv_num_outputs],stddev=0.1))\n",
    "    conv_layer = tf.nn.conv2d(x_tensor, weight, strides=[1, conv_strides[0], conv_strides[1], 1], padding='SAME')\n",
    "    conv_layer = tf.nn.bias_add(conv_layer, bias)\n",
    "    conv_layer = tf.nn.relu(conv_layer)\n",
    "    conv_layer = tf.nn.max_pool(conv_layer,ksize=[1, pool_ksize[0], pool_ksize[1], 1],strides=[1, pool_strides[0], pool_strides[1], 1],padding='SAME')\n",
    "    return conv_layer\n",
    "\n",
    "\n",
    "\"\"\"\n",
    "DON'T MODIFY ANYTHING IN THIS CELL THAT IS BELOW THIS LINE\n",
    "\"\"\"\n",
    "tests.test_con_pool(conv2d_maxpool)"
   ]
  },
  {
   "cell_type": "markdown",
   "metadata": {},
   "source": [
    "### Flatten Layer\n",
    "Implement the `flatten` function to change the dimension of `x_tensor` from a 4-D tensor to a 2-D tensor.  The output should be the shape (*Batch Size*, *Flattened Image Size*). Shortcut option: you can use classes from the [TensorFlow Layers](https://www.tensorflow.org/api_docs/python/tf/layers) or [TensorFlow Layers (contrib)](https://www.tensorflow.org/api_guides/python/contrib.layers) packages for this layer. For more of a challenge, only use other TensorFlow packages."
   ]
  },
  {
   "cell_type": "code",
   "execution_count": 4,
   "metadata": {
    "collapsed": false
   },
   "outputs": [
    {
     "name": "stdout",
     "output_type": "stream",
     "text": [
      "Tests Passed\n"
     ]
    }
   ],
   "source": [
    "def flatten(x_tensor):\n",
    "    \"\"\"\n",
    "    Flatten x_tensor to (Batch Size, Flattened Image Size)\n",
    "    : x_tensor: A tensor of size (Batch Size, ...), where ... are the image dimensions.\n",
    "    : return: A tensor of size (Batch Size, Flattened Image Size).\n",
    "    \"\"\"\n",
    "    # TODO: Implement Function\n",
    "    return tf.contrib.layers.flatten(x_tensor)\n",
    "\n",
    "\n",
    "\"\"\"\n",
    "DON'T MODIFY ANYTHING IN THIS CELL THAT IS BELOW THIS LINE\n",
    "\"\"\"\n",
    "tests.test_flatten(flatten)"
   ]
  },
  {
   "cell_type": "markdown",
   "metadata": {},
   "source": [
    "### Fully-Connected Layer\n",
    "Implement the `fully_conn` function to apply a fully connected layer to `x_tensor` with the shape (*Batch Size*, *num_outputs*). Shortcut option: you can use classes from the [TensorFlow Layers](https://www.tensorflow.org/api_docs/python/tf/layers) or [TensorFlow Layers (contrib)](https://www.tensorflow.org/api_guides/python/contrib.layers) packages for this layer. For more of a challenge, only use other TensorFlow packages."
   ]
  },
  {
   "cell_type": "code",
   "execution_count": 5,
   "metadata": {
    "collapsed": false
   },
   "outputs": [
    {
     "name": "stdout",
     "output_type": "stream",
     "text": [
      "Tests Passed\n"
     ]
    }
   ],
   "source": [
    "def fully_conn(x_tensor, num_outputs):\n",
    "    \"\"\"\n",
    "    Apply a fully connected layer to x_tensor using weight and bias\n",
    "    : x_tensor: A 2-D tensor where the first dimension is batch size.\n",
    "    : num_outputs: The number of output that the new tensor should be.\n",
    "    : return: A 2-D tensor where the second dimension is num_outputs.\n",
    "    \"\"\"\n",
    "    # TODO: Implement Function\n",
    "    \n",
    "\n",
    "    return tf.contrib.layers.fully_connected(\n",
    "    x_tensor,\n",
    "    num_outputs,\n",
    "    activation_fn=tf.nn.relu,\n",
    "    normalizer_fn=None,\n",
    "    normalizer_params=None,\n",
    "    weights_initializer=tf.contrib.layers.xavier_initializer(),\n",
    "    weights_regularizer=None,\n",
    "    biases_initializer=tf.zeros_initializer(),\n",
    "    biases_regularizer=None,\n",
    "    reuse=None,\n",
    "    variables_collections=None,\n",
    "    outputs_collections=None,\n",
    "    trainable=True,\n",
    "    scope=None\n",
    "    )\n",
    "\n",
    "\n",
    "\"\"\"\n",
    "DON'T MODIFY ANYTHING IN THIS CELL THAT IS BELOW THIS LINE\n",
    "\"\"\"\n",
    "tests.test_fully_conn(fully_conn)"
   ]
  },
  {
   "cell_type": "markdown",
   "metadata": {},
   "source": [
    "### Output Layer\n",
    "Implement the `output` function to apply a fully connected layer to `x_tensor` with the shape (*Batch Size*, *num_outputs*). Shortcut option: you can use classes from the [TensorFlow Layers](https://www.tensorflow.org/api_docs/python/tf/layers) or [TensorFlow Layers (contrib)](https://www.tensorflow.org/api_guides/python/contrib.layers) packages for this layer. For more of a challenge, only use other TensorFlow packages.\n",
    "\n",
    "**Note:** Activation, softmax, or cross entropy should **not** be applied to this."
   ]
  },
  {
   "cell_type": "code",
   "execution_count": 6,
   "metadata": {
    "collapsed": false
   },
   "outputs": [
    {
     "name": "stdout",
     "output_type": "stream",
     "text": [
      "Tests Passed\n"
     ]
    }
   ],
   "source": [
    "def output(x_tensor, num_outputs):\n",
    "    \"\"\"\n",
    "    Apply a output layer to x_tensor using weight and bias\n",
    "    : x_tensor: A 2-D tensor where the first dimension is batch size.\n",
    "    : num_outputs: The number of output that the new tensor should be.\n",
    "    : return: A 2-D tensor where the second dimension is num_outputs.\n",
    "    \"\"\"\n",
    "    # TODO: Implement Function\n",
    "    return tf.contrib.layers.fully_connected(\n",
    "    x_tensor,\n",
    "    num_outputs,\n",
    "    activation_fn=None,\n",
    "    normalizer_fn=None,\n",
    "    normalizer_params=None,\n",
    "    weights_initializer=tf.contrib.layers.xavier_initializer(),\n",
    "    weights_regularizer=None,\n",
    "    biases_initializer=tf.zeros_initializer(),\n",
    "    biases_regularizer=None,\n",
    "    reuse=None,\n",
    "    variables_collections=None,\n",
    "    outputs_collections=None,\n",
    "    trainable=True,\n",
    "    scope=None\n",
    "    )\n",
    "\n",
    "\n",
    "\"\"\"\n",
    "DON'T MODIFY ANYTHING IN THIS CELL THAT IS BELOW THIS LINE\n",
    "\"\"\"\n",
    "tests.test_output(output)"
   ]
  },
  {
   "cell_type": "markdown",
   "metadata": {},
   "source": [
    "### Create Convolutional Model\n",
    "Implement the function `conv_net` to create a convolutional neural network model. The function takes in a batch of images, `x`, and outputs logits.  Use the layers you created above to create this model:\n",
    "\n",
    "* Apply 1, 2, or 3 Convolution and Max Pool layers\n",
    "* Apply a Flatten Layer\n",
    "* Apply 1, 2, or 3 Fully Connected Layers\n",
    "* Apply an Output Layer\n",
    "* Return the output\n",
    "* Apply [TensorFlow's Dropout](https://www.tensorflow.org/api_docs/python/tf/nn/dropout) to one or more layers in the model using `keep_prob`. "
   ]
  },
  {
   "cell_type": "code",
   "execution_count": 7,
   "metadata": {
    "collapsed": false
   },
   "outputs": [
    {
     "name": "stdout",
     "output_type": "stream",
     "text": [
      "Neural Network Built!\n"
     ]
    }
   ],
   "source": [
    "def conv_net(x, keep_prob):\n",
    "    \"\"\"\n",
    "    Create a convolutional neural network model\n",
    "    : x: Placeholder tensor that holds image data.\n",
    "    : keep_prob: Placeholder tensor that hold dropout keep probability.\n",
    "    : return: Tensor that represents logits\n",
    "    \"\"\"\n",
    "    # TODO: Apply 1, 2, or 3 Convolution and Max Pool layers\n",
    "    #    Play around with different number of outputs, kernel size and stride\n",
    "    # Function Definition from Above:\n",
    "    \n",
    "    conv_num_outputs1=64\n",
    "    conv_num_outputs2=64\n",
    "    conv_ksize=[5,5]\n",
    "    conv_strides=[1,1]\n",
    "    pool_ksize=[3,3]\n",
    "    pool_strides=[2,2]\n",
    "    \n",
    "    layer1=conv2d_maxpool(x, conv_num_outputs1, conv_ksize, conv_strides, pool_ksize, pool_strides)\n",
    "    layer2=conv2d_maxpool(layer1, conv_num_outputs2, conv_ksize, conv_strides, pool_ksize, pool_strides)\n",
    "\n",
    "\n",
    "    # TODO: Apply a Flatten Layer\n",
    "    # Function Definition from Above:\n",
    "    flatten_layer=flatten(layer2)\n",
    "    \n",
    "\n",
    "    # TODO: Apply 1, 2, or 3 Fully Connected Layers\n",
    "    #    Play around with different number of outputs\n",
    "    # Function Definition from Above:\n",
    "    #   fully_conn(x_tensor, num_outputs)\n",
    "    fully_connected_layer1 = fully_conn(flatten_layer, 100)\n",
    "    fully_dropout = tf.nn.dropout(fully_connected_layer1, keep_prob)\n",
    "\n",
    "    # TODO: Apply an Output Layer\n",
    "    #    Set this to the number of classes\n",
    "    # Function Definition from Above:\n",
    "    output_layer = output(fully_dropout,  10)\n",
    "    \n",
    "    \n",
    "    # TODO: return output\n",
    "    return output_layer\n",
    "\n",
    "\n",
    "\"\"\"\n",
    "DON'T MODIFY ANYTHING IN THIS CELL THAT IS BELOW THIS LINE\n",
    "\"\"\"\n",
    "\n",
    "##############################\n",
    "## Build the Neural Network ##\n",
    "##############################\n",
    "\n",
    "# Remove previous weights, bias, inputs, etc..\n",
    "tf.reset_default_graph()\n",
    "\n",
    "# Inputs\n",
    "x = neural_net_image_input((32, 32, 3))\n",
    "y = neural_net_label_input(10)\n",
    "keep_prob = neural_net_keep_prob_input()\n",
    "\n",
    "# Model\n",
    "logits = conv_net(x, keep_prob)\n",
    "\n",
    "# Name logits Tensor, so that is can be loaded from disk after training\n",
    "logits = tf.identity(logits, name='logits')\n",
    "\n",
    "# Loss and Optimizer\n",
    "cost = tf.reduce_mean(tf.nn.softmax_cross_entropy_with_logits(logits=logits, labels=y))\n",
    "optimizer = tf.train.AdamOptimizer().minimize(cost)\n",
    "\n",
    "# Accuracy\n",
    "correct_pred = tf.equal(tf.argmax(logits, 1), tf.argmax(y, 1))\n",
    "accuracy = tf.reduce_mean(tf.cast(correct_pred, tf.float32), name='accuracy')\n",
    "\n",
    "tests.test_conv_net(conv_net)"
   ]
  },
  {
   "cell_type": "markdown",
   "metadata": {},
   "source": [
    "## Train the Neural Network\n",
    "### Single Optimization\n",
    "Implement the function `train_neural_network` to do a single optimization.  The optimization should use `optimizer` to optimize in `session` with a `feed_dict` of the following:\n",
    "* `x` for image input\n",
    "* `y` for labels\n",
    "* `keep_prob` for keep probability for dropout\n",
    "\n",
    "This function will be called for each batch, so `tf.global_variables_initializer()` has already been called.\n",
    "\n",
    "Note: Nothing needs to be returned. This function is only optimizing the neural network."
   ]
  },
  {
   "cell_type": "code",
   "execution_count": 8,
   "metadata": {
    "collapsed": false
   },
   "outputs": [
    {
     "name": "stdout",
     "output_type": "stream",
     "text": [
      "Tests Passed\n"
     ]
    }
   ],
   "source": [
    "def train_neural_network(session, optimizer, keep_probability, feature_batch, label_batch):\n",
    "    \"\"\"\n",
    "    Optimize the session on a batch of images and labels\n",
    "    : session: Current TensorFlow session\n",
    "    : optimizer: TensorFlow optimizer function\n",
    "    : keep_probability: keep probability\n",
    "    : feature_batch: Batch of Numpy image data\n",
    "    : label_batch: Batch of Numpy label data\n",
    "    \"\"\"\n",
    "    # TODO: Implement Function\n",
    "    session.run(optimizer, feed_dict={x: feature_batch, y:label_batch, keep_prob: keep_probability})\n",
    "\n",
    "\n",
    "\"\"\"\n",
    "DON'T MODIFY ANYTHING IN THIS CELL THAT IS BELOW THIS LINE\n",
    "\"\"\"\n",
    "tests.test_train_nn(train_neural_network)"
   ]
  },
  {
   "cell_type": "markdown",
   "metadata": {},
   "source": [
    "### Show Stats\n",
    "Implement the function `print_stats` to print loss and validation accuracy.  Use the global variables `valid_features` and `valid_labels` to calculate validation accuracy.  Use a keep probability of `1.0` to calculate the loss and validation accuracy."
   ]
  },
  {
   "cell_type": "code",
   "execution_count": 9,
   "metadata": {
    "collapsed": false
   },
   "outputs": [],
   "source": [
    "def print_stats(session, feature_batch, label_batch, cost, accuracy):\n",
    "    \"\"\"\n",
    "    Print information about loss and validation accuracy\n",
    "    : session: Current TensorFlow session\n",
    "    : feature_batch: Batch of Numpy image data\n",
    "    : label_batch: Batch of Numpy label data\n",
    "    : cost: TensorFlow cost function\n",
    "    : accuracy: TensorFlow accuracy function\n",
    "    \"\"\"\n",
    "    # TODO: Implement Function\n",
    "    loss = session.run(cost, feed_dict={x:feature_batch, y:label_batch, keep_prob: 1.0})\n",
    "    accuracy = session.run(accuracy, feed_dict={x: valid_features, y:valid_labels, keep_prob:1.0})\n",
    "    \n",
    "    print(' Loss : {} '.format(loss))\n",
    "    print(' Validation Accuracy : {} '.format(accuracy))"
   ]
  },
  {
   "cell_type": "markdown",
   "metadata": {},
   "source": [
    "### Hyperparameters\n",
    "Tune the following parameters:\n",
    "* Set `epochs` to the number of iterations until the network stops learning or start overfitting\n",
    "* Set `batch_size` to the highest number that your machine has memory for.  Most people set them to common sizes of memory:\n",
    " * 64\n",
    " * 128\n",
    " * 256\n",
    " * ...\n",
    "* Set `keep_probability` to the probability of keeping a node using dropout"
   ]
  },
  {
   "cell_type": "code",
   "execution_count": 10,
   "metadata": {
    "collapsed": true
   },
   "outputs": [],
   "source": [
    "# TODO: Tune Parameters\n",
    "epochs = 40\n",
    "batch_size = 128\n",
    "keep_probability = 0.6"
   ]
  },
  {
   "cell_type": "markdown",
   "metadata": {},
   "source": [
    "### Train on a Single CIFAR-10 Batch\n",
    "Instead of training the neural network on all the CIFAR-10 batches of data, let's use a single batch. This should save time while you iterate on the model to get a better accuracy.  Once the final validation accuracy is 50% or greater, run the model on all the data in the next section."
   ]
  },
  {
   "cell_type": "code",
   "execution_count": 11,
   "metadata": {
    "collapsed": false
   },
   "outputs": [
    {
     "name": "stdout",
     "output_type": "stream",
     "text": [
      "Checking the Training on a Single Batch...\n",
      "Epoch  1, CIFAR-10 Batch 1:   Loss : 1.9791072607040405 \n",
      " Validation Accuracy : 0.36899998784065247 \n",
      "Epoch  2, CIFAR-10 Batch 1:   Loss : 1.7896255254745483 \n",
      " Validation Accuracy : 0.4251999855041504 \n",
      "Epoch  3, CIFAR-10 Batch 1:   Loss : 1.6299560070037842 \n",
      " Validation Accuracy : 0.4611999988555908 \n",
      "Epoch  4, CIFAR-10 Batch 1:   Loss : 1.4771264791488647 \n",
      " Validation Accuracy : 0.4796000123023987 \n",
      "Epoch  5, CIFAR-10 Batch 1:   Loss : 1.3942463397979736 \n",
      " Validation Accuracy : 0.5076000094413757 \n",
      "Epoch  6, CIFAR-10 Batch 1:   Loss : 1.2865880727767944 \n",
      " Validation Accuracy : 0.5148000121116638 \n",
      "Epoch  7, CIFAR-10 Batch 1:   Loss : 1.2957284450531006 \n",
      " Validation Accuracy : 0.51419997215271 \n",
      "Epoch  8, CIFAR-10 Batch 1:   Loss : 1.181267261505127 \n",
      " Validation Accuracy : 0.5266000032424927 \n",
      "Epoch  9, CIFAR-10 Batch 1:   Loss : 1.1303279399871826 \n",
      " Validation Accuracy : 0.5333999991416931 \n",
      "Epoch 10, CIFAR-10 Batch 1:   Loss : 1.1113712787628174 \n",
      " Validation Accuracy : 0.5343999862670898 \n",
      "Epoch 11, CIFAR-10 Batch 1:   Loss : 1.0218960046768188 \n",
      " Validation Accuracy : 0.5479999780654907 \n",
      "Epoch 12, CIFAR-10 Batch 1:   Loss : 0.9817084074020386 \n",
      " Validation Accuracy : 0.5442000031471252 \n",
      "Epoch 13, CIFAR-10 Batch 1:   Loss : 0.9881899952888489 \n",
      " Validation Accuracy : 0.5468000173568726 \n",
      "Epoch 14, CIFAR-10 Batch 1:   Loss : 0.9262121319770813 \n",
      " Validation Accuracy : 0.5551999807357788 \n",
      "Epoch 15, CIFAR-10 Batch 1:   Loss : 0.8471225500106812 \n",
      " Validation Accuracy : 0.5623999834060669 \n",
      "Epoch 16, CIFAR-10 Batch 1:   Loss : 0.8661368489265442 \n",
      " Validation Accuracy : 0.5511999726295471 \n",
      "Epoch 17, CIFAR-10 Batch 1:   Loss : 0.8687509298324585 \n",
      " Validation Accuracy : 0.5691999793052673 \n",
      "Epoch 18, CIFAR-10 Batch 1:   Loss : 0.8119065165519714 \n",
      " Validation Accuracy : 0.571399986743927 \n",
      "Epoch 19, CIFAR-10 Batch 1:   Loss : 0.7919327616691589 \n",
      " Validation Accuracy : 0.5613999962806702 \n",
      "Epoch 20, CIFAR-10 Batch 1:   Loss : 0.7434285879135132 \n",
      " Validation Accuracy : 0.5831999778747559 \n",
      "Epoch 21, CIFAR-10 Batch 1:   Loss : 0.7313442826271057 \n",
      " Validation Accuracy : 0.571399986743927 \n",
      "Epoch 22, CIFAR-10 Batch 1:   Loss : 0.6657495498657227 \n",
      " Validation Accuracy : 0.5685999989509583 \n",
      "Epoch 23, CIFAR-10 Batch 1:   Loss : 0.6339889168739319 \n",
      " Validation Accuracy : 0.5759999752044678 \n",
      "Epoch 24, CIFAR-10 Batch 1:   Loss : 0.5957181453704834 \n",
      " Validation Accuracy : 0.5763999819755554 \n",
      "Epoch 25, CIFAR-10 Batch 1:   Loss : 0.5756936073303223 \n",
      " Validation Accuracy : 0.578000009059906 \n",
      "Epoch 26, CIFAR-10 Batch 1:   Loss : 0.6345041990280151 \n",
      " Validation Accuracy : 0.5879999995231628 \n",
      "Epoch 27, CIFAR-10 Batch 1:   Loss : 0.5239704847335815 \n",
      " Validation Accuracy : 0.5843999981880188 \n",
      "Epoch 28, CIFAR-10 Batch 1:   Loss : 0.5082188844680786 \n",
      " Validation Accuracy : 0.5917999744415283 \n",
      "Epoch 29, CIFAR-10 Batch 1:   Loss : 0.5113475322723389 \n",
      " Validation Accuracy : 0.5807999968528748 \n",
      "Epoch 30, CIFAR-10 Batch 1:   Loss : 0.48921459913253784 \n",
      " Validation Accuracy : 0.5839999914169312 \n",
      "Epoch 31, CIFAR-10 Batch 1:   Loss : 0.4712851643562317 \n",
      " Validation Accuracy : 0.5827999711036682 \n",
      "Epoch 32, CIFAR-10 Batch 1:   Loss : 0.5072606205940247 \n",
      " Validation Accuracy : 0.5627999901771545 \n",
      "Epoch 33, CIFAR-10 Batch 1:   Loss : 0.45181435346603394 \n",
      " Validation Accuracy : 0.5734000205993652 \n",
      "Epoch 34, CIFAR-10 Batch 1:   Loss : 0.44120755791664124 \n",
      " Validation Accuracy : 0.5875999927520752 \n",
      "Epoch 35, CIFAR-10 Batch 1:   Loss : 0.43177834153175354 \n",
      " Validation Accuracy : 0.5720000267028809 \n",
      "Epoch 36, CIFAR-10 Batch 1:   Loss : 0.4005371928215027 \n",
      " Validation Accuracy : 0.5763999819755554 \n",
      "Epoch 37, CIFAR-10 Batch 1:   Loss : 0.37546905875205994 \n",
      " Validation Accuracy : 0.5853999853134155 \n",
      "Epoch 38, CIFAR-10 Batch 1:   Loss : 0.40228962898254395 \n",
      " Validation Accuracy : 0.5884000062942505 \n",
      "Epoch 39, CIFAR-10 Batch 1:   Loss : 0.40057238936424255 \n",
      " Validation Accuracy : 0.5888000130653381 \n",
      "Epoch 40, CIFAR-10 Batch 1:   Loss : 0.37803512811660767 \n",
      " Validation Accuracy : 0.5820000171661377 \n"
     ]
    }
   ],
   "source": [
    "\"\"\"\n",
    "DON'T MODIFY ANYTHING IN THIS CELL\n",
    "\"\"\"\n",
    "print('Checking the Training on a Single Batch...')\n",
    "with tf.Session() as sess:\n",
    "    # Initializing the variables\n",
    "    sess.run(tf.global_variables_initializer())\n",
    "    \n",
    "    # Training cycle\n",
    "    for epoch in range(epochs):\n",
    "        batch_i = 1\n",
    "        for batch_features, batch_labels in helper.load_preprocess_training_batch(batch_i, batch_size):\n",
    "            train_neural_network(sess, optimizer, keep_probability, batch_features, batch_labels)\n",
    "        print('Epoch {:>2}, CIFAR-10 Batch {}:  '.format(epoch + 1, batch_i), end='')\n",
    "        print_stats(sess, batch_features, batch_labels, cost, accuracy)"
   ]
  },
  {
   "cell_type": "markdown",
   "metadata": {},
   "source": [
    "### Fully Train the Model\n",
    "Now that you got a good accuracy with a single CIFAR-10 batch, try it with all five batches."
   ]
  },
  {
   "cell_type": "code",
   "execution_count": 12,
   "metadata": {
    "collapsed": false
   },
   "outputs": [
    {
     "name": "stdout",
     "output_type": "stream",
     "text": [
      "Training...\n",
      "Epoch  1, CIFAR-10 Batch 1:   Loss : 1.9381729364395142 \n",
      " Validation Accuracy : 0.384799987077713 \n",
      "Epoch  1, CIFAR-10 Batch 2:   Loss : 1.5650932788848877 \n",
      " Validation Accuracy : 0.43560001254081726 \n",
      "Epoch  1, CIFAR-10 Batch 3:   Loss : 1.4360530376434326 \n",
      " Validation Accuracy : 0.4375999867916107 \n",
      "Epoch  1, CIFAR-10 Batch 4:   Loss : 1.2862045764923096 \n",
      " Validation Accuracy : 0.5 \n",
      "Epoch  1, CIFAR-10 Batch 5:   Loss : 1.5106680393218994 \n",
      " Validation Accuracy : 0.49540001153945923 \n",
      "Epoch  2, CIFAR-10 Batch 1:   Loss : 1.5165084600448608 \n",
      " Validation Accuracy : 0.5184000134468079 \n",
      "Epoch  2, CIFAR-10 Batch 2:   Loss : 1.1720844507217407 \n",
      " Validation Accuracy : 0.5351999998092651 \n",
      "Epoch  2, CIFAR-10 Batch 3:   Loss : 1.2265841960906982 \n",
      " Validation Accuracy : 0.527400016784668 \n",
      "Epoch  2, CIFAR-10 Batch 4:   Loss : 1.118162751197815 \n",
      " Validation Accuracy : 0.550000011920929 \n",
      "Epoch  2, CIFAR-10 Batch 5:   Loss : 1.2902618646621704 \n",
      " Validation Accuracy : 0.5547999739646912 \n",
      "Epoch  3, CIFAR-10 Batch 1:   Loss : 1.3163633346557617 \n",
      " Validation Accuracy : 0.5612000226974487 \n",
      "Epoch  3, CIFAR-10 Batch 2:   Loss : 1.039257287979126 \n",
      " Validation Accuracy : 0.5654000043869019 \n",
      "Epoch  3, CIFAR-10 Batch 3:   Loss : 1.1121437549591064 \n",
      " Validation Accuracy : 0.5600000023841858 \n",
      "Epoch  3, CIFAR-10 Batch 4:   Loss : 1.0228112936019897 \n",
      " Validation Accuracy : 0.5785999894142151 \n",
      "Epoch  3, CIFAR-10 Batch 5:   Loss : 1.173892617225647 \n",
      " Validation Accuracy : 0.5803999900817871 \n",
      "Epoch  4, CIFAR-10 Batch 1:   Loss : 1.1381268501281738 \n",
      " Validation Accuracy : 0.5655999779701233 \n",
      "Epoch  4, CIFAR-10 Batch 2:   Loss : 0.9677954912185669 \n",
      " Validation Accuracy : 0.603600025177002 \n",
      "Epoch  4, CIFAR-10 Batch 3:   Loss : 1.0055701732635498 \n",
      " Validation Accuracy : 0.6007999777793884 \n",
      "Epoch  4, CIFAR-10 Batch 4:   Loss : 0.9759140014648438 \n",
      " Validation Accuracy : 0.6039999723434448 \n",
      "Epoch  4, CIFAR-10 Batch 5:   Loss : 1.0664504766464233 \n",
      " Validation Accuracy : 0.6144000291824341 \n",
      "Epoch  5, CIFAR-10 Batch 1:   Loss : 1.1443473100662231 \n",
      " Validation Accuracy : 0.5989999771118164 \n",
      "Epoch  5, CIFAR-10 Batch 2:   Loss : 0.863265872001648 \n",
      " Validation Accuracy : 0.6082000136375427 \n",
      "Epoch  5, CIFAR-10 Batch 3:   Loss : 0.8633965253829956 \n",
      " Validation Accuracy : 0.6245999932289124 \n",
      "Epoch  5, CIFAR-10 Batch 4:   Loss : 0.8787204623222351 \n",
      " Validation Accuracy : 0.6208000183105469 \n",
      "Epoch  5, CIFAR-10 Batch 5:   Loss : 1.0066300630569458 \n",
      " Validation Accuracy : 0.631600022315979 \n",
      "Epoch  6, CIFAR-10 Batch 1:   Loss : 1.0463138818740845 \n",
      " Validation Accuracy : 0.6093999743461609 \n",
      "Epoch  6, CIFAR-10 Batch 2:   Loss : 0.8032339811325073 \n",
      " Validation Accuracy : 0.6209999918937683 \n",
      "Epoch  6, CIFAR-10 Batch 3:   Loss : 0.8144142031669617 \n",
      " Validation Accuracy : 0.6291999816894531 \n",
      "Epoch  6, CIFAR-10 Batch 4:   Loss : 0.8404308557510376 \n",
      " Validation Accuracy : 0.6384000182151794 \n",
      "Epoch  6, CIFAR-10 Batch 5:   Loss : 0.9367374181747437 \n",
      " Validation Accuracy : 0.6421999931335449 \n",
      "Epoch  7, CIFAR-10 Batch 1:   Loss : 0.9471275210380554 \n",
      " Validation Accuracy : 0.6308000087738037 \n",
      "Epoch  7, CIFAR-10 Batch 2:   Loss : 0.7230943441390991 \n",
      " Validation Accuracy : 0.6442000269889832 \n",
      "Epoch  7, CIFAR-10 Batch 3:   Loss : 0.7131516337394714 \n",
      " Validation Accuracy : 0.6517999768257141 \n",
      "Epoch  7, CIFAR-10 Batch 4:   Loss : 0.7765563130378723 \n",
      " Validation Accuracy : 0.6460000276565552 \n",
      "Epoch  7, CIFAR-10 Batch 5:   Loss : 0.9095333218574524 \n",
      " Validation Accuracy : 0.6460000276565552 \n",
      "Epoch  8, CIFAR-10 Batch 1:   Loss : 0.9216159582138062 \n",
      " Validation Accuracy : 0.6335999965667725 \n",
      "Epoch  8, CIFAR-10 Batch 2:   Loss : 0.6585423350334167 \n",
      " Validation Accuracy : 0.6331999897956848 \n",
      "Epoch  8, CIFAR-10 Batch 3:   Loss : 0.6541708707809448 \n",
      " Validation Accuracy : 0.6406000256538391 \n",
      "Epoch  8, CIFAR-10 Batch 4:   Loss : 0.7568855285644531 \n",
      " Validation Accuracy : 0.6470000147819519 \n",
      "Epoch  8, CIFAR-10 Batch 5:   Loss : 0.8270950317382812 \n",
      " Validation Accuracy : 0.6388000249862671 \n",
      "Epoch  9, CIFAR-10 Batch 1:   Loss : 0.848319411277771 \n",
      " Validation Accuracy : 0.6380000114440918 \n",
      "Epoch  9, CIFAR-10 Batch 2:   Loss : 0.655063271522522 \n",
      " Validation Accuracy : 0.651199996471405 \n",
      "Epoch  9, CIFAR-10 Batch 3:   Loss : 0.6277042627334595 \n",
      " Validation Accuracy : 0.6466000080108643 \n",
      "Epoch  9, CIFAR-10 Batch 4:   Loss : 0.7740058898925781 \n",
      " Validation Accuracy : 0.6543999910354614 \n",
      "Epoch  9, CIFAR-10 Batch 5:   Loss : 0.7685598134994507 \n",
      " Validation Accuracy : 0.6485999822616577 \n",
      "Epoch 10, CIFAR-10 Batch 1:   Loss : 0.8120401501655579 \n",
      " Validation Accuracy : 0.6345999836921692 \n",
      "Epoch 10, CIFAR-10 Batch 2:   Loss : 0.576919674873352 \n",
      " Validation Accuracy : 0.656000018119812 \n",
      "Epoch 10, CIFAR-10 Batch 3:   Loss : 0.6138261556625366 \n",
      " Validation Accuracy : 0.6413999795913696 \n",
      "Epoch 10, CIFAR-10 Batch 4:   Loss : 0.6860300898551941 \n",
      " Validation Accuracy : 0.659600019454956 \n",
      "Epoch 10, CIFAR-10 Batch 5:   Loss : 0.7139215469360352 \n",
      " Validation Accuracy : 0.6460000276565552 \n",
      "Epoch 11, CIFAR-10 Batch 1:   Loss : 0.7829758524894714 \n",
      " Validation Accuracy : 0.6498000025749207 \n",
      "Epoch 11, CIFAR-10 Batch 2:   Loss : 0.5738508105278015 \n",
      " Validation Accuracy : 0.6565999984741211 \n",
      "Epoch 11, CIFAR-10 Batch 3:   Loss : 0.49703437089920044 \n",
      " Validation Accuracy : 0.6453999876976013 \n",
      "Epoch 11, CIFAR-10 Batch 4:   Loss : 0.6127554178237915 \n",
      " Validation Accuracy : 0.6615999937057495 \n",
      "Epoch 11, CIFAR-10 Batch 5:   Loss : 0.6100756525993347 \n",
      " Validation Accuracy : 0.6543999910354614 \n",
      "Epoch 12, CIFAR-10 Batch 1:   Loss : 0.6748728156089783 \n",
      " Validation Accuracy : 0.6502000093460083 \n",
      "Epoch 12, CIFAR-10 Batch 2:   Loss : 0.49727392196655273 \n",
      " Validation Accuracy : 0.6638000011444092 \n",
      "Epoch 12, CIFAR-10 Batch 3:   Loss : 0.4805453419685364 \n",
      " Validation Accuracy : 0.6538000106811523 \n",
      "Epoch 12, CIFAR-10 Batch 4:   Loss : 0.6105549335479736 \n",
      " Validation Accuracy : 0.6564000248908997 \n",
      "Epoch 12, CIFAR-10 Batch 5:   Loss : 0.5919681191444397 \n",
      " Validation Accuracy : 0.6583999991416931 \n",
      "Epoch 13, CIFAR-10 Batch 1:   Loss : 0.6811607480049133 \n",
      " Validation Accuracy : 0.647599995136261 \n",
      "Epoch 13, CIFAR-10 Batch 2:   Loss : 0.5748414993286133 \n",
      " Validation Accuracy : 0.652400016784668 \n",
      "Epoch 13, CIFAR-10 Batch 3:   Loss : 0.43607884645462036 \n",
      " Validation Accuracy : 0.6448000073432922 \n",
      "Epoch 13, CIFAR-10 Batch 4:   Loss : 0.6137815713882446 \n",
      " Validation Accuracy : 0.6601999998092651 \n",
      "Epoch 13, CIFAR-10 Batch 5:   Loss : 0.5604888796806335 \n",
      " Validation Accuracy : 0.6535999774932861 \n",
      "Epoch 14, CIFAR-10 Batch 1:   Loss : 0.622575581073761 \n",
      " Validation Accuracy : 0.6516000032424927 \n",
      "Epoch 14, CIFAR-10 Batch 2:   Loss : 0.46832504868507385 \n",
      " Validation Accuracy : 0.6606000065803528 \n",
      "Epoch 14, CIFAR-10 Batch 3:   Loss : 0.4292367994785309 \n",
      " Validation Accuracy : 0.6611999869346619 \n",
      "Epoch 14, CIFAR-10 Batch 4:   Loss : 0.5599298477172852 \n",
      " Validation Accuracy : 0.6700000166893005 \n",
      "Epoch 14, CIFAR-10 Batch 5:   Loss : 0.49997878074645996 \n",
      " Validation Accuracy : 0.6597999930381775 \n",
      "Epoch 15, CIFAR-10 Batch 1:   Loss : 0.5820389986038208 \n",
      " Validation Accuracy : 0.6549999713897705 \n",
      "Epoch 15, CIFAR-10 Batch 2:   Loss : 0.4471343159675598 \n",
      " Validation Accuracy : 0.6553999781608582 \n",
      "Epoch 15, CIFAR-10 Batch 3:   Loss : 0.3864959478378296 \n",
      " Validation Accuracy : 0.6639999747276306 \n",
      "Epoch 15, CIFAR-10 Batch 4:   Loss : 0.5072718858718872 \n",
      " Validation Accuracy : 0.6690000295639038 \n",
      "Epoch 15, CIFAR-10 Batch 5:   Loss : 0.55101078748703 \n",
      " Validation Accuracy : 0.6466000080108643 \n",
      "Epoch 16, CIFAR-10 Batch 1:   Loss : 0.5384640097618103 \n",
      " Validation Accuracy : 0.6583999991416931 \n",
      "Epoch 16, CIFAR-10 Batch 2:   Loss : 0.4381253123283386 \n",
      " Validation Accuracy : 0.6665999889373779 \n",
      "Epoch 16, CIFAR-10 Batch 3:   Loss : 0.40640878677368164 \n",
      " Validation Accuracy : 0.659600019454956 \n",
      "Epoch 16, CIFAR-10 Batch 4:   Loss : 0.472883939743042 \n",
      " Validation Accuracy : 0.6693999767303467 \n",
      "Epoch 16, CIFAR-10 Batch 5:   Loss : 0.470979779958725 \n",
      " Validation Accuracy : 0.656000018119812 \n",
      "Epoch 17, CIFAR-10 Batch 1:   Loss : 0.5151094198226929 \n",
      " Validation Accuracy : 0.6632000207901001 \n",
      "Epoch 17, CIFAR-10 Batch 2:   Loss : 0.44072866439819336 \n",
      " Validation Accuracy : 0.6416000127792358 \n",
      "Epoch 17, CIFAR-10 Batch 3:   Loss : 0.3486364185810089 \n",
      " Validation Accuracy : 0.6743999719619751 \n",
      "Epoch 17, CIFAR-10 Batch 4:   Loss : 0.4154159128665924 \n",
      " Validation Accuracy : 0.6697999835014343 \n",
      "Epoch 17, CIFAR-10 Batch 5:   Loss : 0.4621005654335022 \n",
      " Validation Accuracy : 0.6692000031471252 \n",
      "Epoch 18, CIFAR-10 Batch 1:   Loss : 0.5160926580429077 \n",
      " Validation Accuracy : 0.6633999943733215 \n",
      "Epoch 18, CIFAR-10 Batch 2:   Loss : 0.4091990888118744 \n",
      " Validation Accuracy : 0.6557999849319458 \n",
      "Epoch 18, CIFAR-10 Batch 3:   Loss : 0.3625580370426178 \n",
      " Validation Accuracy : 0.6639999747276306 \n",
      "Epoch 18, CIFAR-10 Batch 4:   Loss : 0.4556247591972351 \n",
      " Validation Accuracy : 0.6746000051498413 \n",
      "Epoch 18, CIFAR-10 Batch 5:   Loss : 0.4150952398777008 \n",
      " Validation Accuracy : 0.6697999835014343 \n",
      "Epoch 19, CIFAR-10 Batch 1:   Loss : 0.4864981174468994 \n",
      " Validation Accuracy : 0.6624000072479248 \n",
      "Epoch 19, CIFAR-10 Batch 2:   Loss : 0.4089105725288391 \n",
      " Validation Accuracy : 0.6621999740600586 \n",
      "Epoch 19, CIFAR-10 Batch 3:   Loss : 0.31662094593048096 \n",
      " Validation Accuracy : 0.6661999821662903 \n",
      "Epoch 19, CIFAR-10 Batch 4:   Loss : 0.43805304169654846 \n",
      " Validation Accuracy : 0.6647999882698059 \n",
      "Epoch 19, CIFAR-10 Batch 5:   Loss : 0.3760293126106262 \n",
      " Validation Accuracy : 0.6679999828338623 \n",
      "Epoch 20, CIFAR-10 Batch 1:   Loss : 0.47117099165916443 \n",
      " Validation Accuracy : 0.6480000019073486 \n",
      "Epoch 20, CIFAR-10 Batch 2:   Loss : 0.3363714814186096 \n",
      " Validation Accuracy : 0.6686000227928162 \n",
      "Epoch 20, CIFAR-10 Batch 3:   Loss : 0.30992668867111206 \n",
      " Validation Accuracy : 0.6672000288963318 \n",
      "Epoch 20, CIFAR-10 Batch 4:   Loss : 0.4117123484611511 \n",
      " Validation Accuracy : 0.6711999773979187 \n",
      "Epoch 20, CIFAR-10 Batch 5:   Loss : 0.3575449287891388 \n",
      " Validation Accuracy : 0.659600019454956 \n",
      "Epoch 21, CIFAR-10 Batch 1:   Loss : 0.4715990126132965 \n",
      " Validation Accuracy : 0.6535999774932861 \n",
      "Epoch 21, CIFAR-10 Batch 2:   Loss : 0.305757075548172 \n",
      " Validation Accuracy : 0.6779999732971191 \n",
      "Epoch 21, CIFAR-10 Batch 3:   Loss : 0.30383196473121643 \n",
      " Validation Accuracy : 0.6718000173568726 \n",
      "Epoch 21, CIFAR-10 Batch 4:   Loss : 0.35279184579849243 \n",
      " Validation Accuracy : 0.6654000282287598 \n",
      "Epoch 21, CIFAR-10 Batch 5:   Loss : 0.35907334089279175 \n",
      " Validation Accuracy : 0.6686000227928162 \n",
      "Epoch 22, CIFAR-10 Batch 1:   Loss : 0.41166096925735474 \n",
      " Validation Accuracy : 0.6696000099182129 \n",
      "Epoch 22, CIFAR-10 Batch 2:   Loss : 0.3256247639656067 \n",
      " Validation Accuracy : 0.6647999882698059 \n",
      "Epoch 22, CIFAR-10 Batch 3:   Loss : 0.31924548745155334 \n",
      " Validation Accuracy : 0.6656000018119812 \n",
      "Epoch 22, CIFAR-10 Batch 4:   Loss : 0.3639238774776459 \n",
      " Validation Accuracy : 0.6700000166893005 \n",
      "Epoch 22, CIFAR-10 Batch 5:   Loss : 0.3320372700691223 \n",
      " Validation Accuracy : 0.6650000214576721 \n",
      "Epoch 23, CIFAR-10 Batch 1:   Loss : 0.39001625776290894 \n",
      " Validation Accuracy : 0.6787999868392944 \n",
      "Epoch 23, CIFAR-10 Batch 2:   Loss : 0.3024204969406128 \n",
      " Validation Accuracy : 0.6603999733924866 \n",
      "Epoch 23, CIFAR-10 Batch 3:   Loss : 0.28152650594711304 \n",
      " Validation Accuracy : 0.6674000024795532 \n",
      "Epoch 23, CIFAR-10 Batch 4:   Loss : 0.33333486318588257 \n",
      " Validation Accuracy : 0.6647999882698059 \n",
      "Epoch 23, CIFAR-10 Batch 5:   Loss : 0.3220064043998718 \n",
      " Validation Accuracy : 0.6567999720573425 \n",
      "Epoch 24, CIFAR-10 Batch 1:   Loss : 0.39490896463394165 \n",
      " Validation Accuracy : 0.6692000031471252 \n",
      "Epoch 24, CIFAR-10 Batch 2:   Loss : 0.2832435071468353 \n",
      " Validation Accuracy : 0.6746000051498413 \n",
      "Epoch 24, CIFAR-10 Batch 3:   Loss : 0.2530471384525299 \n",
      " Validation Accuracy : 0.6850000023841858 \n",
      "Epoch 24, CIFAR-10 Batch 4:   Loss : 0.2775697112083435 \n",
      " Validation Accuracy : 0.6772000193595886 \n",
      "Epoch 24, CIFAR-10 Batch 5:   Loss : 0.29407674074172974 \n",
      " Validation Accuracy : 0.6607999801635742 \n",
      "Epoch 25, CIFAR-10 Batch 1:   Loss : 0.3740883767604828 \n",
      " Validation Accuracy : 0.6722000241279602 \n",
      "Epoch 25, CIFAR-10 Batch 2:   Loss : 0.24456945061683655 \n",
      " Validation Accuracy : 0.6664000153541565 \n",
      "Epoch 25, CIFAR-10 Batch 3:   Loss : 0.2445468008518219 \n",
      " Validation Accuracy : 0.6741999983787537 \n",
      "Epoch 25, CIFAR-10 Batch 4:   Loss : 0.2964748740196228 \n",
      " Validation Accuracy : 0.6758000254631042 \n",
      "Epoch 25, CIFAR-10 Batch 5:   Loss : 0.30482906103134155 \n",
      " Validation Accuracy : 0.6585999727249146 \n",
      "Epoch 26, CIFAR-10 Batch 1:   Loss : 0.3707098364830017 \n",
      " Validation Accuracy : 0.6826000213623047 \n",
      "Epoch 26, CIFAR-10 Batch 2:   Loss : 0.2578258514404297 \n",
      " Validation Accuracy : 0.671999990940094 \n",
      "Epoch 26, CIFAR-10 Batch 3:   Loss : 0.24964995682239532 \n",
      " Validation Accuracy : 0.6772000193595886 \n",
      "Epoch 26, CIFAR-10 Batch 4:   Loss : 0.3269178867340088 \n",
      " Validation Accuracy : 0.6693999767303467 \n",
      "Epoch 26, CIFAR-10 Batch 5:   Loss : 0.3232356309890747 \n",
      " Validation Accuracy : 0.6603999733924866 \n",
      "Epoch 27, CIFAR-10 Batch 1:   Loss : 0.3388408124446869 \n",
      " Validation Accuracy : 0.6801999807357788 \n",
      "Epoch 27, CIFAR-10 Batch 2:   Loss : 0.22759060561656952 \n",
      " Validation Accuracy : 0.6776000261306763 \n",
      "Epoch 27, CIFAR-10 Batch 3:   Loss : 0.2271684855222702 \n",
      " Validation Accuracy : 0.671999990940094 \n",
      "Epoch 27, CIFAR-10 Batch 4:   Loss : 0.269530713558197 \n",
      " Validation Accuracy : 0.673799991607666 \n",
      "Epoch 27, CIFAR-10 Batch 5:   Loss : 0.27002567052841187 \n",
      " Validation Accuracy : 0.6660000085830688 \n",
      "Epoch 28, CIFAR-10 Batch 1:   Loss : 0.33328375220298767 \n",
      " Validation Accuracy : 0.6796000003814697 \n",
      "Epoch 28, CIFAR-10 Batch 2:   Loss : 0.2950441837310791 \n",
      " Validation Accuracy : 0.6675999760627747 \n",
      "Epoch 28, CIFAR-10 Batch 3:   Loss : 0.20059306919574738 \n",
      " Validation Accuracy : 0.6686000227928162 \n",
      "Epoch 28, CIFAR-10 Batch 4:   Loss : 0.25784093141555786 \n",
      " Validation Accuracy : 0.6660000085830688 \n",
      "Epoch 28, CIFAR-10 Batch 5:   Loss : 0.258522093296051 \n",
      " Validation Accuracy : 0.6682000160217285 \n",
      "Epoch 29, CIFAR-10 Batch 1:   Loss : 0.3433452844619751 \n",
      " Validation Accuracy : 0.6733999848365784 \n",
      "Epoch 29, CIFAR-10 Batch 2:   Loss : 0.19738611578941345 \n",
      " Validation Accuracy : 0.6697999835014343 \n",
      "Epoch 29, CIFAR-10 Batch 3:   Loss : 0.24906182289123535 \n",
      " Validation Accuracy : 0.6754000186920166 \n",
      "Epoch 29, CIFAR-10 Batch 4:   Loss : 0.258928120136261 \n",
      " Validation Accuracy : 0.6736000180244446 \n",
      "Epoch 29, CIFAR-10 Batch 5:   Loss : 0.23557980358600616 \n",
      " Validation Accuracy : 0.6656000018119812 \n",
      "Epoch 30, CIFAR-10 Batch 1:   Loss : 0.35227909684181213 \n",
      " Validation Accuracy : 0.6740000247955322 \n",
      "Epoch 30, CIFAR-10 Batch 2:   Loss : 0.19751407206058502 \n",
      " Validation Accuracy : 0.6773999929428101 \n",
      "Epoch 30, CIFAR-10 Batch 3:   Loss : 0.2366926223039627 \n",
      " Validation Accuracy : 0.6700000166893005 \n",
      "Epoch 30, CIFAR-10 Batch 4:   Loss : 0.2426828145980835 \n",
      " Validation Accuracy : 0.6679999828338623 \n",
      "Epoch 30, CIFAR-10 Batch 5:   Loss : 0.2543239891529083 \n",
      " Validation Accuracy : 0.6650000214576721 \n",
      "Epoch 31, CIFAR-10 Batch 1:   Loss : 0.3573577404022217 \n",
      " Validation Accuracy : 0.6700000166893005 \n",
      "Epoch 31, CIFAR-10 Batch 2:   Loss : 0.19664256274700165 \n",
      " Validation Accuracy : 0.6614000201225281 \n",
      "Epoch 31, CIFAR-10 Batch 3:   Loss : 0.19963011145591736 \n",
      " Validation Accuracy : 0.6776000261306763 \n",
      "Epoch 31, CIFAR-10 Batch 4:   Loss : 0.2776373028755188 \n",
      " Validation Accuracy : 0.6629999876022339 \n",
      "Epoch 31, CIFAR-10 Batch 5:   Loss : 0.23176684975624084 \n",
      " Validation Accuracy : 0.6718000173568726 \n",
      "Epoch 32, CIFAR-10 Batch 1:   Loss : 0.31459179520606995 \n",
      " Validation Accuracy : 0.6740000247955322 \n",
      "Epoch 32, CIFAR-10 Batch 2:   Loss : 0.1775360107421875 \n",
      " Validation Accuracy : 0.6679999828338623 \n",
      "Epoch 32, CIFAR-10 Batch 3:   Loss : 0.21125154197216034 \n",
      " Validation Accuracy : 0.6718000173568726 \n",
      "Epoch 32, CIFAR-10 Batch 4:   Loss : 0.22345101833343506 \n",
      " Validation Accuracy : 0.6777999997138977 \n",
      "Epoch 32, CIFAR-10 Batch 5:   Loss : 0.23117204010486603 \n",
      " Validation Accuracy : 0.6761999726295471 \n",
      "Epoch 33, CIFAR-10 Batch 1:   Loss : 0.31235626339912415 \n",
      " Validation Accuracy : 0.6728000044822693 \n",
      "Epoch 33, CIFAR-10 Batch 2:   Loss : 0.18666429817676544 \n",
      " Validation Accuracy : 0.6601999998092651 \n",
      "Epoch 33, CIFAR-10 Batch 3:   Loss : 0.17449474334716797 \n",
      " Validation Accuracy : 0.6646000146865845 \n",
      "Epoch 33, CIFAR-10 Batch 4:   Loss : 0.20854143798351288 \n",
      " Validation Accuracy : 0.6654000282287598 \n",
      "Epoch 33, CIFAR-10 Batch 5:   Loss : 0.20443658530712128 \n",
      " Validation Accuracy : 0.6710000038146973 \n",
      "Epoch 34, CIFAR-10 Batch 1:   Loss : 0.2815111577510834 \n",
      " Validation Accuracy : 0.6751999855041504 \n",
      "Epoch 34, CIFAR-10 Batch 2:   Loss : 0.20155330002307892 \n",
      " Validation Accuracy : 0.6643999814987183 \n",
      "Epoch 34, CIFAR-10 Batch 3:   Loss : 0.2140229195356369 \n",
      " Validation Accuracy : 0.6741999983787537 \n",
      "Epoch 34, CIFAR-10 Batch 4:   Loss : 0.21189911663532257 \n",
      " Validation Accuracy : 0.6675999760627747 \n",
      "Epoch 34, CIFAR-10 Batch 5:   Loss : 0.19003547728061676 \n",
      " Validation Accuracy : 0.6751999855041504 \n",
      "Epoch 35, CIFAR-10 Batch 1:   Loss : 0.30789098143577576 \n",
      " Validation Accuracy : 0.673799991607666 \n",
      "Epoch 35, CIFAR-10 Batch 2:   Loss : 0.1772564947605133 \n",
      " Validation Accuracy : 0.6665999889373779 \n",
      "Epoch 35, CIFAR-10 Batch 3:   Loss : 0.19032680988311768 \n",
      " Validation Accuracy : 0.6715999841690063 \n",
      "Epoch 35, CIFAR-10 Batch 4:   Loss : 0.22140459716320038 \n",
      " Validation Accuracy : 0.6549999713897705 \n",
      "Epoch 35, CIFAR-10 Batch 5:   Loss : 0.22853951156139374 \n",
      " Validation Accuracy : 0.6639999747276306 \n",
      "Epoch 36, CIFAR-10 Batch 1:   Loss : 0.31082600355148315 \n",
      " Validation Accuracy : 0.6718000173568726 \n",
      "Epoch 36, CIFAR-10 Batch 2:   Loss : 0.1897124946117401 \n",
      " Validation Accuracy : 0.6507999897003174 \n",
      "Epoch 36, CIFAR-10 Batch 3:   Loss : 0.1733265370130539 \n",
      " Validation Accuracy : 0.6603999733924866 \n",
      "Epoch 36, CIFAR-10 Batch 4:   Loss : 0.20656149089336395 \n",
      " Validation Accuracy : 0.6687999963760376 \n",
      "Epoch 36, CIFAR-10 Batch 5:   Loss : 0.17880238592624664 \n",
      " Validation Accuracy : 0.6710000038146973 \n",
      "Epoch 37, CIFAR-10 Batch 1:   Loss : 0.27558574080467224 \n",
      " Validation Accuracy : 0.6751999855041504 \n",
      "Epoch 37, CIFAR-10 Batch 2:   Loss : 0.15564101934432983 \n",
      " Validation Accuracy : 0.6650000214576721 \n",
      "Epoch 37, CIFAR-10 Batch 3:   Loss : 0.1700943261384964 \n",
      " Validation Accuracy : 0.6661999821662903 \n",
      "Epoch 37, CIFAR-10 Batch 4:   Loss : 0.1904035359621048 \n",
      " Validation Accuracy : 0.6642000079154968 \n",
      "Epoch 37, CIFAR-10 Batch 5:   Loss : 0.1786702573299408 \n",
      " Validation Accuracy : 0.6777999997138977 \n",
      "Epoch 38, CIFAR-10 Batch 1:   Loss : 0.23180265724658966 \n",
      " Validation Accuracy : 0.6759999990463257 \n",
      "Epoch 38, CIFAR-10 Batch 2:   Loss : 0.13229301571846008 \n",
      " Validation Accuracy : 0.6696000099182129 \n",
      "Epoch 38, CIFAR-10 Batch 3:   Loss : 0.15029340982437134 \n",
      " Validation Accuracy : 0.6746000051498413 \n",
      "Epoch 38, CIFAR-10 Batch 4:   Loss : 0.1958407759666443 \n",
      " Validation Accuracy : 0.6647999882698059 \n",
      "Epoch 38, CIFAR-10 Batch 5:   Loss : 0.16945438086986542 \n",
      " Validation Accuracy : 0.673799991607666 \n",
      "Epoch 39, CIFAR-10 Batch 1:   Loss : 0.29771292209625244 \n",
      " Validation Accuracy : 0.6660000085830688 \n",
      "Epoch 39, CIFAR-10 Batch 2:   Loss : 0.16352900862693787 \n",
      " Validation Accuracy : 0.6723999977111816 \n",
      "Epoch 39, CIFAR-10 Batch 3:   Loss : 0.17332975566387177 \n",
      " Validation Accuracy : 0.6620000004768372 \n",
      "Epoch 39, CIFAR-10 Batch 4:   Loss : 0.16134274005889893 \n",
      " Validation Accuracy : 0.6607999801635742 \n",
      "Epoch 39, CIFAR-10 Batch 5:   Loss : 0.15789490938186646 \n",
      " Validation Accuracy : 0.66839998960495 \n",
      "Epoch 40, CIFAR-10 Batch 1:   Loss : 0.24191710352897644 \n",
      " Validation Accuracy : 0.6697999835014343 \n",
      "Epoch 40, CIFAR-10 Batch 2:   Loss : 0.1564737856388092 \n",
      " Validation Accuracy : 0.6583999991416931 \n",
      "Epoch 40, CIFAR-10 Batch 3:   Loss : 0.18324077129364014 \n",
      " Validation Accuracy : 0.6686000227928162 \n",
      "Epoch 40, CIFAR-10 Batch 4:   Loss : 0.16958776116371155 \n",
      " Validation Accuracy : 0.6715999841690063 \n",
      "Epoch 40, CIFAR-10 Batch 5:   Loss : 0.13863930106163025 \n",
      " Validation Accuracy : 0.6715999841690063 \n"
     ]
    }
   ],
   "source": [
    "\"\"\"\n",
    "DON'T MODIFY ANYTHING IN THIS CELL\n",
    "\"\"\"\n",
    "save_model_path = './image_classification'\n",
    "\n",
    "print('Training...')\n",
    "with tf.Session() as sess:\n",
    "    # Initializing the variables\n",
    "    sess.run(tf.global_variables_initializer())\n",
    "    \n",
    "    # Training cycle\n",
    "    for epoch in range(epochs):\n",
    "        # Loop over all batches\n",
    "        n_batches = 5\n",
    "        for batch_i in range(1, n_batches + 1):\n",
    "            for batch_features, batch_labels in helper.load_preprocess_training_batch(batch_i, batch_size):\n",
    "                train_neural_network(sess, optimizer, keep_probability, batch_features, batch_labels)\n",
    "            print('Epoch {:>2}, CIFAR-10 Batch {}:  '.format(epoch + 1, batch_i), end='')\n",
    "            print_stats(sess, batch_features, batch_labels, cost, accuracy)\n",
    "            \n",
    "    # Save Model\n",
    "    saver = tf.train.Saver()\n",
    "    save_path = saver.save(sess, save_model_path)"
   ]
  },
  {
   "cell_type": "markdown",
   "metadata": {},
   "source": [
    "# Checkpoint\n",
    "The model has been saved to disk.\n",
    "## Test Model\n",
    "Test your model against the test dataset.  This will be your final accuracy. You should have an accuracy greater than 50%. If you don't, keep tweaking the model architecture and parameters."
   ]
  },
  {
   "cell_type": "code",
   "execution_count": 14,
   "metadata": {
    "collapsed": false
   },
   "outputs": [
    {
     "name": "stdout",
     "output_type": "stream",
     "text": [
      "INFO:tensorflow:Restoring parameters from ./image_classification\n",
      "Testing Accuracy: 0.6679193037974683\n",
      "\n"
     ]
    },
    {
     "data": {
      "image/png": "[encoded data removed]",
      "text/plain": [
       "<matplotlib.figure.Figure at 0x2849e189320>"
      ]
     },
     "metadata": {
      "image/png": {
       "height": 319,
       "width": 355
      }
     },
     "output_type": "display_data"
    }
   ],
   "source": [
    "\"\"\"\n",
    "DON'T MODIFY ANYTHING IN THIS CELL\n",
    "\"\"\"\n",
    "%matplotlib inline\n",
    "%config InlineBackend.figure_format = 'retina'\n",
    "\n",
    "import tensorflow as tf\n",
    "import pickle\n",
    "import helper\n",
    "import random\n",
    "\n",
    "# Set batch size if not already set\n",
    "try:\n",
    "    if batch_size:\n",
    "        pass\n",
    "except NameError:\n",
    "    batch_size = 64\n",
    "\n",
    "save_model_path = './image_classification'\n",
    "n_samples = 4\n",
    "top_n_predictions = 3\n",
    "\n",
    "def test_model():\n",
    "    \"\"\"\n",
    "    Test the saved model against the test dataset\n",
    "    \"\"\"\n",
    "\n",
    "    test_features, test_labels = pickle.load(open('preprocess_test.p', mode='rb'))\n",
    "    loaded_graph = tf.Graph()\n",
    "\n",
    "    with tf.Session(graph=loaded_graph) as sess:\n",
    "        # Load model\n",
    "        loader = tf.train.import_meta_graph(save_model_path + '.meta')\n",
    "        loader.restore(sess, save_model_path)\n",
    "\n",
    "        # Get Tensors from loaded model\n",
    "        loaded_x = loaded_graph.get_tensor_by_name('x:0')\n",
    "        loaded_y = loaded_graph.get_tensor_by_name('y:0')\n",
    "        loaded_keep_prob = loaded_graph.get_tensor_by_name('keep_prob:0')\n",
    "        loaded_logits = loaded_graph.get_tensor_by_name('logits:0')\n",
    "        loaded_acc = loaded_graph.get_tensor_by_name('accuracy:0')\n",
    "        \n",
    "        # Get accuracy in batches for memory limitations\n",
    "        test_batch_acc_total = 0\n",
    "        test_batch_count = 0\n",
    "        \n",
    "        for test_feature_batch, test_label_batch in helper.batch_features_labels(test_features, test_labels, batch_size):\n",
    "            test_batch_acc_total += sess.run(\n",
    "                loaded_acc,\n",
    "                feed_dict={loaded_x: test_feature_batch, loaded_y: test_label_batch, loaded_keep_prob: 1.0})\n",
    "            test_batch_count += 1\n",
    "\n",
    "        print('Testing Accuracy: {}\\n'.format(test_batch_acc_total/test_batch_count))\n",
    "\n",
    "        # Print Random Samples\n",
    "        random_test_features, random_test_labels = tuple(zip(*random.sample(list(zip(test_features, test_labels)), n_samples)))\n",
    "        random_test_predictions = sess.run(\n",
    "            tf.nn.top_k(tf.nn.softmax(loaded_logits), top_n_predictions),\n",
    "            feed_dict={loaded_x: random_test_features, loaded_y: random_test_labels, loaded_keep_prob: 1.0})\n",
    "        helper.display_image_predictions(random_test_features, random_test_labels, random_test_predictions)\n",
    "\n",
    "\n",
    "test_model()"
   ]
  },
  {
   "cell_type": "markdown",
   "metadata": {},
   "source": [
    "## Why 50-80% Accuracy?\n",
    "You might be wondering why you can't get an accuracy any higher. First things first, 50% isn't bad for a simple CNN.  Pure guessing would get you 10% accuracy. However, you might notice people are getting scores [well above 80%](http://rodrigob.github.io/are_we_there_yet/build/classification_datasets_results.html#43494641522d3130).  That's because we haven't taught you all there is to know about neural networks. We still need to cover a few more techniques.\n",
    "## Submitting This Project\n",
    "When submitting this project, make sure to run all the cells before saving the notebook.  Save the notebook file as \"dlnd_image_classification.ipynb\" and save it as a HTML file under \"File\" -> \"Download as\".  Include the \"helper.py\" and \"problem_unittests.py\" files in your submission."
   ]
  }
 ],
 "metadata": {
  "kernelspec": {
   "display_name": "Python 3",
   "language": "python",
   "name": "python3"
  },
  "language_info": {
   "codemirror_mode": {
    "name": "ipython",
    "version": 3
   },
   "file_extension": ".py",
   "mimetype": "text/x-python",
   "name": "python",
   "nbconvert_exporter": "python",
   "pygments_lexer": "ipython3",
   "version": "3.6.0"
  }
 },
 "nbformat": 4,
 "nbformat_minor": 0
}
